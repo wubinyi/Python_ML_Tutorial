{
 "cells": [
  {
   "cell_type": "code",
   "execution_count": 2,
   "metadata": {},
   "outputs": [],
   "source": [
    "import math\n",
    "from enum import Enum"
   ]
  },
  {
   "cell_type": "code",
   "execution_count": 3,
   "metadata": {},
   "outputs": [],
   "source": [
    "class Color(Enum):\n",
    "    RED = 1\n",
    "    GREEN = 2\n",
    "    "
   ]
  },
  {
   "cell_type": "code",
   "execution_count": 6,
   "metadata": {},
   "outputs": [
    {
     "name": "stdout",
     "output_type": "stream",
     "text": [
      "RED\n"
     ]
    },
    {
     "data": {
      "text/plain": [
       "str"
      ]
     },
     "execution_count": 6,
     "metadata": {},
     "output_type": "execute_result"
    }
   ],
   "source": [
    "print(Color.RED.name)\n",
    "type(Color.RED.name)"
   ]
  },
  {
   "cell_type": "code",
   "execution_count": 26,
   "metadata": {},
   "outputs": [],
   "source": [
    "from enum import Enum\n",
    "\n",
    "class LayerType(Enum):\n",
    "\tINPUT = 0\n",
    "\tCONV = 1\n",
    "\tPADD = 2\n",
    "\tPOOL = 3\n",
    "\tDENSE = 4\n",
    "    \n",
    "def addConvLayer(inActivationDim, layerParameter, layerParameters):\n",
    "    '''\n",
    "    @Input\n",
    "        layerParameter = ([F_Width, F_Height, Channels, Output_Channels], stride, same)\n",
    "    @Ouput\n",
    "        layerParameters\n",
    "    @Note\n",
    "        Padding -> Convolution\n",
    "    '''\n",
    "    filterDim, stride, same = layerParameter\n",
    "    # Insert Padding layer\n",
    "    outputActivationDim = inActivationDim.copy()\n",
    "    if same:\n",
    "        paddingLayerName = \"{}_{}\".format(LayerType.PADD.name, 1)\n",
    "        paddingLayerParameter = (inActivationDim, filterDim, stride)\n",
    "        layerParameters[paddingLayerName] = (LayerType.PADD, paddingLayerParameter)\n",
    "        paddingSize = stride * inActivationDim[0] - stride + filterDim[0] - inActivationDim[0]\n",
    "        outputActivationDim[0] = outputActivationDim[0] + paddingSize\n",
    "        paddingSize = stride * inActivationDim[1] - stride + filterDim[1] - inActivationDim[1]\n",
    "        outputActivationDim[1] = outputActivationDim[1] + paddingSize\n",
    "        print(\"inActivationDim\", inActivationDim)\n",
    "    # Insert Convolution layer\n",
    "    convLayerName = \"{}_{}\".format(LayerType.CONV.name, 1)\n",
    "    convLayerParameter = (outputActivationDim, filterDim, stride)\n",
    "    layerParameters[paddingLayerName] = (LayerType.CONV, convLayerParameter)\n",
    "    # Get output dimension of layer\n",
    "    if same:\n",
    "        return inActivationDim\n",
    "    else:\n",
    "        outputActivationDim[0] = math.floor((inActivationDim[0] - filterDim[0]) / stride) + 1\n",
    "        outputActivationDim[1] = math.floor((inActivationDim[1] - filterDim[1]) / stride) + 1\n",
    "        outputActivationDim[2] = filterDim[3]\n",
    "        return outputActivationDim"
   ]
  },
  {
   "cell_type": "code",
   "execution_count": 27,
   "metadata": {},
   "outputs": [
    {
     "name": "stdout",
     "output_type": "stream",
     "text": [
      "inActivationDim [60, 60, 3]\n",
      "[60, 60, 3]\n",
      "{'PADD_1': (<LayerType.CONV: 1>, ([62, 62, 3], [3, 3, 3, 16], 1))}\n",
      "(<LayerType.CONV: 1>, ([62, 62, 3], [3, 3, 3, 16], 1))\n"
     ]
    }
   ],
   "source": [
    "inActivationDim = [60, 60, 3]\n",
    "layerParameter = ([3,3,3,16],1,True)\n",
    "layerParameters = {}\n",
    "outputActivationDim = addConvLayer(inActivationDim, layerParameter, layerParameters)\n",
    "print(outputActivationDim)\n",
    "print(layerParameters)\n",
    "print(layerParameters['PADD_1'])"
   ]
  },
  {
   "cell_type": "code",
   "execution_count": 29,
   "metadata": {},
   "outputs": [],
   "source": [
    "a = [1,2]\n",
    "a = 1\n",
    "if isinstance(a, list):\n",
    "    print(\"a is list\")"
   ]
  },
  {
   "cell_type": "code",
   "execution_count": 30,
   "metadata": {},
   "outputs": [
    {
     "name": "stdout",
     "output_type": "stream",
     "text": [
      "{<LayerType.INPUT: 0>: (1, [2, 3])}\n"
     ]
    }
   ],
   "source": [
    "a = {}\n",
    "a[LayerType.INPUT] = (1, [2,3])\n",
    "print(a)"
   ]
  },
  {
   "cell_type": "code",
   "execution_count": null,
   "metadata": {},
   "outputs": [],
   "source": []
  }
 ],
 "metadata": {
  "kernelspec": {
   "display_name": "Python 3",
   "language": "python",
   "name": "python3"
  },
  "language_info": {
   "codemirror_mode": {
    "name": "ipython",
    "version": 3
   },
   "file_extension": ".py",
   "mimetype": "text/x-python",
   "name": "python",
   "nbconvert_exporter": "python",
   "pygments_lexer": "ipython3",
   "version": "3.6.4"
  }
 },
 "nbformat": 4,
 "nbformat_minor": 2
}
